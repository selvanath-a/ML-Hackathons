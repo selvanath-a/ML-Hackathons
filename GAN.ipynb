{
  "nbformat": 4,
  "nbformat_minor": 0,
  "metadata": {
    "colab": {
      "name": "GAN.ipynb",
      "version": "0.3.2",
      "provenance": [],
      "include_colab_link": true
    },
    "kernelspec": {
      "name": "python3",
      "display_name": "Python 3"
    }
  },
  "cells": [
    {
      "cell_type": "markdown",
      "metadata": {
        "id": "view-in-github",
        "colab_type": "text"
      },
      "source": [
        "<a href=\"https://colab.research.google.com/github/selvanath-a/ML-repo/blob/master/GAN.ipynb\" target=\"_parent\"><img src=\"https://colab.research.google.com/assets/colab-badge.svg\" alt=\"Open In Colab\"/></a>"
      ]
    },
    {
      "cell_type": "code",
      "metadata": {
        "id": "RpuwUMF5z3RT",
        "colab_type": "code",
        "colab": {}
      },
      "source": [
        "!pip install tensorflow-gpu==2.0.0-beta1\n",
        "!pip install imageio\n",
        "import tensorflow as tf"
      ],
      "execution_count": 0,
      "outputs": []
    },
    {
      "cell_type": "code",
      "metadata": {
        "id": "7ut9AbN0enbi",
        "colab_type": "code",
        "colab": {}
      },
      "source": [
        "import numpy as np\n",
        "import matplotlib.pyplot as plt\n",
        "import os,time\n",
        "import PIL,imageio\n",
        "# import glob\n",
        "from IPython import display\n",
        "from tensorflow.keras import layers\n"
      ],
      "execution_count": 0,
      "outputs": []
    },
    {
      "cell_type": "code",
      "metadata": {
        "id": "7eYo-Wjpo4Ym",
        "colab_type": "code",
        "outputId": "327906b7-3f7f-4998-d0ff-5ddf5a59bfb5",
        "colab": {
          "base_uri": "https://localhost:8080/",
          "height": 54
        }
      },
      "source": [
        "(train_images,train_labels),(_,_)=tf.keras.datasets.mnist.load_data()\n",
        "train_images=tf.cast(tf.reshape(train_images,(-1,28,28,1)),tf.float32)\n",
        "train_images=(train_images-127.5)/127.5"
      ],
      "execution_count": 3,
      "outputs": [
        {
          "output_type": "stream",
          "text": [
            "Downloading data from https://storage.googleapis.com/tensorflow/tf-keras-datasets/mnist.npz\n",
            "11493376/11490434 [==============================] - 0s 0us/step\n"
          ],
          "name": "stdout"
        }
      ]
    },
    {
      "cell_type": "code",
      "metadata": {
        "id": "mwxcQ2GqqOUp",
        "colab_type": "code",
        "colab": {}
      },
      "source": [
        "BUFFER_SIZE=train_images.shape[0]\n",
        "BATCH_SIZE=256\n",
        "train_dataset=tf.data.Dataset.from_tensor_slices(train_images).shuffle(BUFFER_SIZE).batch(BATCH_SIZE)"
      ],
      "execution_count": 0,
      "outputs": []
    },
    {
      "cell_type": "code",
      "metadata": {
        "id": "siUmfVjkrwLT",
        "colab_type": "code",
        "colab": {}
      },
      "source": [
        "def generator_model():\n",
        "  model=tf.keras.Sequential()\n",
        "  model.add(layers.Dense(7*7*256,input_shape=(100,),use_bias=False))\n",
        "  model.add(layers.BatchNormalization())\n",
        "  model.add(layers.LeakyReLU())\n",
        "\n",
        "  model.add(layers.Reshape((7,7,256)))\n",
        "\n",
        "  model.add(layers.Conv2DTranspose(filters=128,strides=(1,1),kernel_size=(5,5),padding='same',use_bias=False))\n",
        "  model.add(layers.BatchNormalization())\n",
        "  model.add(layers.LeakyReLU())\n",
        "\n",
        "  model.add(layers.Conv2DTranspose(filters=64,strides=(2,2),kernel_size=(5,5),padding='same',use_bias=False))\n",
        "  model.add(layers.BatchNormalization())\n",
        "  model.add(layers.LeakyReLU())\n",
        "\n",
        "  model.add(layers.Conv2DTranspose(filters=1,strides=(2,2),kernel_size=(5,5),padding='same',use_bias=False,activation='tanh'))\n",
        "  return model\n",
        "\n",
        "def discriminator_model():\n",
        "  model=tf.keras.Sequential()\n",
        "  model.add(layers.Conv2D(filters=64,kernel_size=(5,5),strides=(2,2),padding='same',input_shape=([28,28,1])))\n",
        "  model.add(layers.LeakyReLU())\n",
        "  \n",
        "  model.add(layers.Conv2D(filters=128,kernel_size=(5,5),strides=(2,2),padding='same'))\n",
        "  model.add(layers.LeakyReLU())\n",
        "  model.add(layers.Dropout(0.2))\n",
        "\n",
        "  model.add(layers.Flatten())\n",
        "  model.add(layers.Dense(1))\n",
        "  return model"
      ],
      "execution_count": 0,
      "outputs": []
    },
    {
      "cell_type": "code",
      "metadata": {
        "id": "ouWnjjxWakbW",
        "colab_type": "code",
        "outputId": "2afcf35b-59c1-4a24-e31d-ed9c5c3bd5c9",
        "colab": {
          "base_uri": "https://localhost:8080/",
          "height": 269
        }
      },
      "source": [
        "noise=tf.random.normal([1,100])\n",
        "generator=generator_model()\n",
        "gen_image=generator(noise,training=False)\n",
        "plt.imshow(gen_image[0,:,:,0],cmap='gray')\n",
        "plt.show()\n"
      ],
      "execution_count": 6,
      "outputs": [
        {
          "output_type": "display_data",
          "data": {
            "image/png": "[encoded data removed]",
            "text/plain": [
              "<Figure size 432x288 with 1 Axes>"
            ]
          },
          "metadata": {
            "tags": []
          }
        }
      ]
    },
    {
      "cell_type": "code",
      "metadata": {
        "id": "L5w-zmITc2mJ",
        "colab_type": "code",
        "outputId": "31395650-e07e-46f4-b431-5070bb3b62ac",
        "colab": {
          "base_uri": "https://localhost:8080/",
          "height": 35
        }
      },
      "source": [
        "discriminator=discriminator_model()\n",
        "decision=discriminator(gen_image)\n",
        "print(decision)"
      ],
      "execution_count": 7,
      "outputs": [
        {
          "output_type": "stream",
          "text": [
            "tf.Tensor([[0.00336295]], shape=(1, 1), dtype=float32)\n"
          ],
          "name": "stdout"
        }
      ]
    },
    {
      "cell_type": "code",
      "metadata": {
        "id": "8YPwUPVldvj8",
        "colab_type": "code",
        "colab": {}
      },
      "source": [
        "cross_entropy=tf.keras.losses.BinaryCrossentropy(from_logits=True)\n",
        "\n",
        "def discriminator_loss(real_output,fake_output):\n",
        "  real_loss=cross_entropy(tf.ones_like(real_output),real_output)\n",
        "  fake_loss=cross_entropy(tf.zeros_like(fake_output),fake_output)\n",
        "  return real_loss+fake_loss\n",
        "\n",
        "def generator_loss(fake_output):\n",
        "  return cross_entropy(tf.ones_like(fake_output),fake_output)"
      ],
      "execution_count": 0,
      "outputs": []
    },
    {
      "cell_type": "code",
      "metadata": {
        "id": "S080PMeMfxCo",
        "colab_type": "code",
        "colab": {}
      },
      "source": [
        "gen_optimizer=tf.keras.optimizers.Adam(1e-4)\n",
        "disc_optimizer=tf.keras.optimizers.Adam(1e-4)"
      ],
      "execution_count": 0,
      "outputs": []
    },
    {
      "cell_type": "code",
      "metadata": {
        "id": "io3Wl3cehTJg",
        "colab_type": "code",
        "colab": {}
      },
      "source": [
        "EPOCHS=5\n",
        "num_images_to_gen=12\n",
        "noise_dim=100\n",
        "\n",
        "seed=tf.random.normal([num_images_to_gen,noise_dim])\n"
      ],
      "execution_count": 0,
      "outputs": []
    },
    {
      "cell_type": "code",
      "metadata": {
        "id": "LfnkPR3oiTab",
        "colab_type": "code",
        "colab": {}
      },
      "source": [
        "@tf.function\n",
        "def train_step(images):\n",
        "  noise=tf.random.normal([BATCH_SIZE,noise_dim])\n",
        "  with tf.GradientTape() as gen_tape, tf.GradientTape() as disc_tape:\n",
        "    gen_image=generator(noise,training=True)\n",
        "    \n",
        "    real_output=discriminator(images,training=True)\n",
        "    fake_output=discriminator(gen_image,training=True)\n",
        "    \n",
        "    gen_loss=generator_loss(fake_output)\n",
        "    disc_loss=discriminator_loss(real_output,fake_output)\n",
        "    \n",
        "  gen_gradients=gen_tape.gradient(gen_loss,generator.trainable_variables)\n",
        "  disc_gradients=disc_tape.gradient(disc_loss,discriminator.trainable_variables)\n",
        "  \n",
        "  gen_optimizer.apply_gradients(zip(gen_gradients,generator.trainable_variables))\n",
        "  disc_optimizer.apply_gradients(zip(disc_gradients,discriminator.trainable_variables))\n",
        "  \n",
        "def generate_and_save_images(model, epoch, test_input):\n",
        "  preds = model(test_input, training=False)\n",
        "\n",
        "  fig = plt.figure(figsize=(4,4))\n",
        "\n",
        "  for i in range(preds.shape[0]):\n",
        "      plt.subplot(4, 4, i+1)\n",
        "      plt.imshow(preds[i, :, :, 0] * 127.5 + 127.5, cmap='gray')\n",
        "      plt.axis('off')\n",
        "\n",
        "  plt.savefig('image_at_epoch_{:04d}.png'.format(epoch))\n",
        "  plt.show()\n",
        "  \n",
        "def train(dataset,epochs):\n",
        "  for epoch in range(epochs):\n",
        "    for image_batch in dataset:\n",
        "      train_step(image_batch)\n",
        "      display.clear_output(wait=True)\n",
        "      generate_and_save_images(generator,epoch,seed)\n",
        "    \n",
        "      \n",
        "  display.clear_output(wait=True)\n",
        "  generate_and_save_images(generator,epochs,seed)\n",
        "    \n",
        "    "
      ],
      "execution_count": 0,
      "outputs": []
    },
    {
      "cell_type": "code",
      "metadata": {
        "id": "7iT4KqRenUfT",
        "colab_type": "code",
        "outputId": "92a726b4-b86e-40a7-c184-78466e8a325d",
        "colab": {
          "base_uri": "https://localhost:8080/",
          "height": 213
        }
      },
      "source": [
        "# Raising the number of epochs generates a better result. \n",
        "train(train_dataset,EPOCHS)\n"
      ],
      "execution_count": 15,
      "outputs": [
        {
          "output_type": "display_data",
          "data": {
            "image/png": "[encoded data removed]",
            "text/plain": [
              "<Figure size 288x288 with 12 Axes>"
            ]
          },
          "metadata": {
            "tags": []
          }
        }
      ]
    }
  ]
}